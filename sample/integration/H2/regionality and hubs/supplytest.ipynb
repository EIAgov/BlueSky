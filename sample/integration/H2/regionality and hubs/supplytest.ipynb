{
 "cells": [
  {
   "cell_type": "code",
   "execution_count": 1,
   "metadata": {},
   "outputs": [
    {
     "data": {
      "image/png": "[encoded data removed]",
      "text/plain": [
       "<Figure size 640x480 with 1 Axes>"
      ]
     },
     "metadata": {},
     "output_type": "display_data"
    },
    {
     "data": {
      "image/png": "[encoded data removed]",
      "text/plain": [
       "<Figure size 640x480 with 1 Axes>"
      ]
     },
     "metadata": {},
     "output_type": "display_data"
    },
    {
     "name": "stdout",
     "output_type": "stream",
     "text": [
      "WARNING: DEPRECATED: Using __getitem__ to return a set value from its\n",
      "(ordered) position is deprecated.  Please use at()  (deprecated in 6.1, will\n",
      "be removed in (or after) 7.0) (called from\n",
      "c:\\Users\\MLJ\\Downloads\\H2\\regionality and hubs\\regions.py:875)\n",
      "WARNING: No semi-integer/integer variables in model with non-empty integrality\n",
      "Presolving model\n",
      "0 rows, 0 cols, 0 nonzeros\n",
      "0 rows, 0 cols, 0 nonzeros\n",
      "Presolve : Reductions: rows 0(-2); columns 0(-4); elements 0(-3) - Reduced to empty\n",
      "Solving the original LP from the solution after postsolve\n",
      "Model   status      : Optimal\n",
      "Objective value     :  0.0000000000e+00\n",
      "HiGHS run time      :          0.00\n",
      "# ==========================================================\n",
      "# = Solver Results                                         =\n",
      "# ==========================================================\n",
      "# ----------------------------------------------------------\n",
      "#   Problem Information\n",
      "# ----------------------------------------------------------\n",
      "Problem: \n",
      "- Lower bound: 0.0\n",
      "  Upper bound: 0.0\n",
      "  Number of objectives: 1\n",
      "  Number of constraints: 0\n",
      "  Number of variables: 0\n",
      "  Sense: 1\n",
      "# ----------------------------------------------------------\n",
      "#   Solver Information\n",
      "# ----------------------------------------------------------\n",
      "Solver: \n",
      "- Status: ok\n",
      "  Termination condition: optimal\n",
      "  Termination message: TerminationCondition.optimal\n",
      "# ----------------------------------------------------------\n",
      "#   Solution Information\n",
      "# ----------------------------------------------------------\n",
      "Solution: \n",
      "- number of solutions: 0\n",
      "  number of solutions displayed: 0\n"
     ]
    },
    {
     "ename": "AttributeError",
     "evalue": "'Model' object has no attribute 'production'",
     "output_type": "error",
     "traceback": [
      "\u001b[1;31m---------------------------------------------------------------------------\u001b[0m",
      "\u001b[1;31mAttributeError\u001b[0m                            Traceback (most recent call last)",
      "Cell \u001b[1;32mIn[1], line 23\u001b[0m\n\u001b[0;32m     21\u001b[0m grid \u001b[38;5;241m=\u001b[39m regions\u001b[38;5;241m.\u001b[39mGrid(regions\u001b[38;5;241m.\u001b[39mData())\n\u001b[0;32m     22\u001b[0m grid\u001b[38;5;241m.\u001b[39mbuild_grid()\n\u001b[1;32m---> 23\u001b[0m \u001b[43mgrid\u001b[49m\u001b[38;5;241;43m.\u001b[39;49m\u001b[43mtest\u001b[49m\u001b[43m(\u001b[49m\u001b[43m)\u001b[49m\n\u001b[0;32m     26\u001b[0m \u001b[38;5;28;01mdef\u001b[39;00m \u001b[38;5;21mdemand_curve\u001b[39m(h2_price_data, iteration \u001b[38;5;241m=\u001b[39m \u001b[38;5;241m1\u001b[39m):\n\u001b[0;32m     28\u001b[0m     h2_price_data[\u001b[38;5;124m'\u001b[39m\u001b[38;5;124mdemand_\u001b[39m\u001b[38;5;124m'\u001b[39m \u001b[38;5;241m+\u001b[39m \u001b[38;5;28mstr\u001b[39m(iteration)] \u001b[38;5;241m=\u001b[39m (\u001b[38;5;241m1\u001b[39m \u001b[38;5;241m-\u001b[39m h2_price_data[\u001b[38;5;124m'\u001b[39m\u001b[38;5;124mprice\u001b[39m\u001b[38;5;124m'\u001b[39m] \u001b[38;5;241m/\u001b[39m  (\u001b[38;5;241m30\u001b[39m\u001b[38;5;241m*\u001b[39m\u001b[38;5;241m1.05\u001b[39m\u001b[38;5;241m*\u001b[39m\u001b[38;5;241m*\u001b[39m(h2_price_data[\u001b[38;5;124m'\u001b[39m\u001b[38;5;124myear\u001b[39m\u001b[38;5;124m'\u001b[39m]\u001b[38;5;241m-\u001b[39m\u001b[38;5;241m2024\u001b[39m)))\u001b[38;5;241m*\u001b[39m\u001b[38;5;241m500000\u001b[39m\u001b[38;5;241m*\u001b[39m\u001b[38;5;241m1.2\u001b[39m\u001b[38;5;241m*\u001b[39m\u001b[38;5;241m*\u001b[39m(h2_price_data[\u001b[38;5;124m'\u001b[39m\u001b[38;5;124myear\u001b[39m\u001b[38;5;124m'\u001b[39m]\u001b[38;5;241m-\u001b[39m\u001b[38;5;241m2024\u001b[39m)\n",
      "File \u001b[1;32mc:\\Users\\MLJ\\Downloads\\H2\\regionality and hubs\\regions.py:669\u001b[0m, in \u001b[0;36mGrid.test\u001b[1;34m(self)\u001b[0m\n\u001b[0;32m    667\u001b[0m \u001b[38;5;28mself\u001b[39m\u001b[38;5;241m.\u001b[39mbuild_model()\n\u001b[0;32m    668\u001b[0m \u001b[38;5;28mself\u001b[39m\u001b[38;5;241m.\u001b[39mmodel\u001b[38;5;241m.\u001b[39mstart_build()\n\u001b[1;32m--> 669\u001b[0m \u001b[38;5;28;43mself\u001b[39;49m\u001b[38;5;241;43m.\u001b[39;49m\u001b[43mmodel\u001b[49m\u001b[38;5;241;43m.\u001b[39;49m\u001b[43msolve\u001b[49m\u001b[43m(\u001b[49m\u001b[38;5;28;43mself\u001b[39;49m\u001b[38;5;241;43m.\u001b[39;49m\u001b[43mmodel\u001b[49m\u001b[38;5;241;43m.\u001b[39;49m\u001b[43mm\u001b[49m\u001b[43m)\u001b[49m\n\u001b[0;32m    671\u001b[0m end \u001b[38;5;241m=\u001b[39m time\u001b[38;5;241m.\u001b[39mtime()\n\u001b[0;32m    673\u001b[0m \u001b[38;5;28mprint\u001b[39m(end \u001b[38;5;241m-\u001b[39m start)\n",
      "File \u001b[1;32mc:\\Users\\MLJ\\Downloads\\H2\\regionality and hubs\\regions.py:915\u001b[0m, in \u001b[0;36mModel.solve\u001b[1;34m(self, m)\u001b[0m\n\u001b[0;32m    912\u001b[0m \u001b[38;5;28mself\u001b[39m\u001b[38;5;241m.\u001b[39mproduction_stats \u001b[38;5;241m=\u001b[39m pd\u001b[38;5;241m.\u001b[39mDataFrame({\u001b[38;5;124m'\u001b[39m\u001b[38;5;124mregion\u001b[39m\u001b[38;5;124m'\u001b[39m:[region \u001b[38;5;28;01mfor\u001b[39;00m region \u001b[38;5;129;01min\u001b[39;00m m\u001b[38;5;241m.\u001b[39mregions \u001b[38;5;28;01mfor\u001b[39;00m tech \u001b[38;5;129;01min\u001b[39;00m m\u001b[38;5;241m.\u001b[39mtechnology \u001b[38;5;28;01mfor\u001b[39;00m year \u001b[38;5;129;01min\u001b[39;00m m\u001b[38;5;241m.\u001b[39myear ], \u001b[38;5;124m'\u001b[39m\u001b[38;5;124mtechnology\u001b[39m\u001b[38;5;124m'\u001b[39m: [tech \u001b[38;5;28;01mfor\u001b[39;00m region \u001b[38;5;129;01min\u001b[39;00m m\u001b[38;5;241m.\u001b[39mregions \u001b[38;5;28;01mfor\u001b[39;00m tech \u001b[38;5;129;01min\u001b[39;00m m\u001b[38;5;241m.\u001b[39mtechnology \u001b[38;5;28;01mfor\u001b[39;00m year \u001b[38;5;129;01min\u001b[39;00m m\u001b[38;5;241m.\u001b[39myear],\u001b[38;5;124m'\u001b[39m\u001b[38;5;124myear\u001b[39m\u001b[38;5;124m'\u001b[39m: [year \u001b[38;5;28;01mfor\u001b[39;00m region \u001b[38;5;129;01min\u001b[39;00m m\u001b[38;5;241m.\u001b[39mregions \u001b[38;5;28;01mfor\u001b[39;00m tech \u001b[38;5;129;01min\u001b[39;00m m\u001b[38;5;241m.\u001b[39mtechnology \u001b[38;5;28;01mfor\u001b[39;00m year \u001b[38;5;129;01min\u001b[39;00m m\u001b[38;5;241m.\u001b[39myear] , \u001b[38;5;124m'\u001b[39m\u001b[38;5;124mvolume\u001b[39m\u001b[38;5;124m'\u001b[39m:[\u001b[38;5;28msum\u001b[39m(value(m\u001b[38;5;241m.\u001b[39mh2_volume[hub,tech,year]) \u001b[38;5;28;01mfor\u001b[39;00m hub \u001b[38;5;129;01min\u001b[39;00m \u001b[38;5;28mself\u001b[39m\u001b[38;5;241m.\u001b[39mregions[region]\u001b[38;5;241m.\u001b[39mhubs\u001b[38;5;241m.\u001b[39mkeys()) \u001b[38;5;28;01mfor\u001b[39;00m region \u001b[38;5;129;01min\u001b[39;00m m\u001b[38;5;241m.\u001b[39mregions \u001b[38;5;28;01mfor\u001b[39;00m tech \u001b[38;5;129;01min\u001b[39;00m m\u001b[38;5;241m.\u001b[39mtechnology \u001b[38;5;28;01mfor\u001b[39;00m year \u001b[38;5;129;01min\u001b[39;00m m\u001b[38;5;241m.\u001b[39myear]})\n\u001b[0;32m    914\u001b[0m \u001b[38;5;28;01mfor\u001b[39;00m tech \u001b[38;5;129;01min\u001b[39;00m m\u001b[38;5;241m.\u001b[39mtechnology:\n\u001b[1;32m--> 915\u001b[0m     \u001b[38;5;28mself\u001b[39m\u001b[38;5;241m.\u001b[39mproduction_stats[\u001b[38;5;124m'\u001b[39m\u001b[38;5;124melectricity_consumption_\u001b[39m\u001b[38;5;124m'\u001b[39m \u001b[38;5;241m+\u001b[39m tech] \u001b[38;5;241m=\u001b[39m \u001b[38;5;28;43mself\u001b[39;49m\u001b[38;5;241;43m.\u001b[39;49m\u001b[43mproduction\u001b[49m[\u001b[38;5;124m'\u001b[39m\u001b[38;5;124mvolume\u001b[39m\u001b[38;5;124m'\u001b[39m]\u001b[38;5;241m*\u001b[39mm\u001b[38;5;241m.\u001b[39melectricity_consumption_rate[tech]\n\u001b[0;32m    917\u001b[0m \u001b[38;5;66;03m#self.H2_price = np.array([(self.registry.hubs[hub].region.name,year, m.dual[m.demand_constraint[self.registry.hubs[hub].region.name,year]]) for hub in m.hubs for year in m.year])\u001b[39;00m\n\u001b[0;32m    918\u001b[0m \u001b[38;5;28mself\u001b[39m\u001b[38;5;241m.\u001b[39mh2_price \u001b[38;5;241m=\u001b[39m pd\u001b[38;5;241m.\u001b[39mDataFrame({\u001b[38;5;124m'\u001b[39m\u001b[38;5;124mregion\u001b[39m\u001b[38;5;124m'\u001b[39m: [\u001b[38;5;28mself\u001b[39m\u001b[38;5;241m.\u001b[39mregistry\u001b[38;5;241m.\u001b[39mhubs[hub]\u001b[38;5;241m.\u001b[39mregion\u001b[38;5;241m.\u001b[39mname \u001b[38;5;28;01mfor\u001b[39;00m hub \u001b[38;5;129;01min\u001b[39;00m m\u001b[38;5;241m.\u001b[39mhubs \u001b[38;5;28;01mfor\u001b[39;00m year \u001b[38;5;129;01min\u001b[39;00m m\u001b[38;5;241m.\u001b[39myear], \u001b[38;5;124m'\u001b[39m\u001b[38;5;124myear\u001b[39m\u001b[38;5;124m'\u001b[39m:[year \u001b[38;5;28;01mfor\u001b[39;00m hub \u001b[38;5;129;01min\u001b[39;00m m\u001b[38;5;241m.\u001b[39mhubs \u001b[38;5;28;01mfor\u001b[39;00m year \u001b[38;5;129;01min\u001b[39;00m m\u001b[38;5;241m.\u001b[39myear],\u001b[38;5;124m'\u001b[39m\u001b[38;5;124mprice\u001b[39m\u001b[38;5;124m'\u001b[39m:[m\u001b[38;5;241m.\u001b[39mdual[m\u001b[38;5;241m.\u001b[39mdemand_constraint[\u001b[38;5;28mself\u001b[39m\u001b[38;5;241m.\u001b[39mregistry\u001b[38;5;241m.\u001b[39mhubs[hub]\u001b[38;5;241m.\u001b[39mregion\u001b[38;5;241m.\u001b[39mname,year]] \u001b[38;5;28;01mfor\u001b[39;00m hub \u001b[38;5;129;01min\u001b[39;00m m\u001b[38;5;241m.\u001b[39mhubs \u001b[38;5;28;01mfor\u001b[39;00m year \u001b[38;5;129;01min\u001b[39;00m m\u001b[38;5;241m.\u001b[39myear]})\n",
      "\u001b[1;31mAttributeError\u001b[0m: 'Model' object has no attribute 'production'"
     ]
    }
   ],
   "source": [
    "# -*- coding: utf-8 -*-\n",
    "\"\"\"\n",
    "Created on Thu Jul 11 09:28:58 2024\n",
    "\n",
    "@author: JNI\n",
    "\"\"\"\n",
    "\n",
    "import pandas as pd\n",
    "import random as rnd\n",
    "import regions\n",
    "\n",
    "\n",
    "'''\n",
    "THIS IS A SIMPLE SCRIPT THAT USES A MADE UP DEMAND CURVE TO ITERATE WITH HMM\n",
    "\n",
    "take the dataframe grid.model.h2_price and input it into the function interchange()\n",
    "along with the desired number of iterations, and it will pass values back and forth.\n",
    "\n",
    "'''\n",
    "\n",
    "grid = regions.Grid(regions.Data())\n",
    "grid.build_grid()\n",
    "grid.test()\n",
    "\n",
    "\n",
    "def demand_curve(h2_price_data, iteration = 1):\n",
    "    \n",
    "    h2_price_data['demand_' + str(iteration)] = (1 - h2_price_data['price'] /  (30*1.05**(h2_price_data['year']-2024)))*500000*1.2**(h2_price_data['year']-2024)\n",
    "    return h2_price_data\n",
    "\n",
    "\n",
    "\n",
    "def interchange(data, iterations = 1):\n",
    "    \n",
    "    data.rename(columns = {'price':'price_0'}, inplace = True)\n",
    "    \n",
    "    for iteration in range(iterations):\n",
    "        data['demand_' + str(iteration)] = (1 - data['price_' + str(iteration)] /  (30*1.05**(data['year']-2024)))*500000*1.1**(data['year']-2024)\n",
    "        new_demand = {(region,year): data[(data['region'] == region) & (data['year'] == year )].iloc[0]['demand_' + str(iteration)] for region in data['region'].unique().tolist() for year in data['year'].unique().tolist()}\n",
    "        grid.model.resolve(new_demand)\n",
    "        data['price_' + str(iteration+1)] = grid.model.h2_price['price']\n",
    "    \n",
    "    return data\n"
   ]
  }
 ],
 "metadata": {
  "kernelspec": {
   "display_name": "Python 3",
   "language": "python",
   "name": "python3"
  },
  "language_info": {
   "codemirror_mode": {
    "name": "ipython",
    "version": 3
   },
   "file_extension": ".py",
   "mimetype": "text/x-python",
   "name": "python",
   "nbconvert_exporter": "python",
   "pygments_lexer": "ipython3",
   "version": "3.11.3"
  }
 },
 "nbformat": 4,
 "nbformat_minor": 2
}
