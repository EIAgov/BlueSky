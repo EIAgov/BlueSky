{
 "cells": [
  {
   "cell_type": "code",
   "execution_count": 6,
   "id": "88f7ee2b",
   "metadata": {},
   "outputs": [],
   "source": [
    "#Electricity Dispatch Model - Based on Restore Module within NEMS\n",
    "\n",
    "####################################################################################################################\n",
    "#Setup\n",
    "\n",
    "#Import pacakges\n",
    "from datetime import datetime\n",
    "import pandas as pd\n",
    "import pyomo.environ as pyo\n",
    "import gc\n",
    "import highspy\n",
    "from pyomo.common.timing import TicTocTimer\n",
    "\n",
    "#import scripts\n",
    "import preprocessor as preprocessor\n",
    "import postprocessor as postprocessor\n",
    "import electricity_model as electricity_model\n"
   ]
  },
  {
   "cell_type": "code",
   "execution_count": 7,
   "id": "6f07369f",
   "metadata": {},
   "outputs": [
    {
     "name": "stdout",
     "output_type": "stream",
     "text": [
      "[    0.00] start\n",
      "[+   0.37] preprocessor finished\n",
      "[+   8.50] build model finished\n",
      "Number of variables = 111104\n",
      "Number of constraints = 109864\n",
      "\n",
      "[+  21.32] solve model finished\n",
      "\n",
      "Objective Function Value = 99624476.27213073\n",
      "\n",
      "dispatchCost Value = 68533792.58912545\n",
      "unmetLoadCost Value = 0.0\n",
      "Cap expansion Value = 1403152.647764725\n",
      "FOMCostObj Value = 24806505.959114823\n",
      "opres Value = 203650.58870987472\n",
      "tradeCost Value = 4677374.487415845\n",
      "\n",
      "[+   5.04] finished\n",
      "\n"
     ]
    }
   ],
   "source": [
    "electricity_model.run_model()"
   ]
  },
  {
   "cell_type": "code",
   "execution_count": null,
   "id": "f52ec8a2",
   "metadata": {},
   "outputs": [],
   "source": []
  }
 ],
 "metadata": {
  "kernelspec": {
   "display_name": "Python 3 (ipykernel)",
   "language": "python",
   "name": "python3"
  },
  "language_info": {
   "codemirror_mode": {
    "name": "ipython",
    "version": 3
   },
   "file_extension": ".py",
   "mimetype": "text/x-python",
   "name": "python",
   "nbconvert_exporter": "python",
   "pygments_lexer": "ipython3",
   "version": "3.11.5"
  }
 },
 "nbformat": 4,
 "nbformat_minor": 5
}
